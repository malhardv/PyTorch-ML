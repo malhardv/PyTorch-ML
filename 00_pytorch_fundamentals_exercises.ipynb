{
 "cells": [
  {
   "cell_type": "markdown",
   "metadata": {
    "vscode": {
     "languageId": "plaintext"
    }
   },
   "source": [
    "# Exercises and Extra-Curriculum"
   ]
  },
  {
   "cell_type": "code",
   "execution_count": 13,
   "metadata": {},
   "outputs": [],
   "source": [
    "import torch\n",
    "import numpy as np"
   ]
  },
  {
   "cell_type": "code",
   "execution_count": 14,
   "metadata": {},
   "outputs": [],
   "source": [
    "device = torch.device(\"cuda\" if torch.cuda.is_available() else \"cpu\")\n",
    "\n",
    "\n",
    "# QUESTION 1 - READ DOCUMENTATION"
   ]
  },
  {
   "cell_type": "code",
   "execution_count": 15,
   "metadata": {},
   "outputs": [
    {
     "data": {
      "text/plain": [
       "tensor([[0.0518, 0.4681, 0.6738, 0.3315, 0.7837, 0.5631, 0.7749],\n",
       "        [0.8208, 0.2793, 0.6817, 0.2837, 0.6567, 0.2388, 0.7313],\n",
       "        [0.6012, 0.3043, 0.2548, 0.6294, 0.9665, 0.7399, 0.4517],\n",
       "        [0.4757, 0.7842, 0.1525, 0.6662, 0.3343, 0.7893, 0.3216],\n",
       "        [0.5247, 0.6688, 0.8436, 0.4265, 0.9561, 0.0770, 0.4108],\n",
       "        [0.0014, 0.5414, 0.6419, 0.2976, 0.7077, 0.4189, 0.0655],\n",
       "        [0.8839, 0.8083, 0.7528, 0.8988, 0.6839, 0.7658, 0.9149]])"
      ]
     },
     "execution_count": 15,
     "metadata": {},
     "output_type": "execute_result"
    }
   ],
   "source": [
    "RANDOM_SEED1 = 0\n",
    "# QUESTION 2 - Create a random tensor with shape (7, 7).\n",
    "question_2_tensor = torch.rand(7, 7)\n",
    "question_2_tensor"
   ]
  },
  {
   "cell_type": "code",
   "execution_count": 16,
   "metadata": {},
   "outputs": [
    {
     "data": {
      "text/plain": [
       "tensor([[1.6249],\n",
       "        [1.6406],\n",
       "        [1.7639],\n",
       "        [1.3974],\n",
       "        [1.4691],\n",
       "        [0.9267],\n",
       "        [2.4269]])"
      ]
     },
     "execution_count": 16,
     "metadata": {},
     "output_type": "execute_result"
    }
   ],
   "source": [
    "# QUESTION 3 - Perform a matrix multiplication on the tensor from 2 with another random tensor with shape (1, 7) (hint: you may have to transpose the second tensor).\n",
    "question_3_tensor = torch.rand(1, 7)\n",
    "answer = torch.matmul(question_2_tensor, question_3_tensor.T)\n",
    "answer"
   ]
  },
  {
   "cell_type": "code",
   "execution_count": 17,
   "metadata": {},
   "outputs": [
    {
     "data": {
      "text/plain": [
       "tensor([[1.5985],\n",
       "        [1.1173],\n",
       "        [1.2741],\n",
       "        [1.6838],\n",
       "        [0.8279],\n",
       "        [1.0347],\n",
       "        [1.2498]])"
      ]
     },
     "execution_count": 17,
     "metadata": {},
     "output_type": "execute_result"
    }
   ],
   "source": [
    "# QUESTION 4 - Set the random seed to 0 and do exercises 2 & 3 over again.\n",
    "torch.manual_seed(RANDOM_SEED1)\n",
    "question_2_tensor = torch.rand(7, 7)\n",
    "\n",
    "torch.manual_seed(RANDOM_SEED1)\n",
    "question_3_tensor = torch.rand(1, 7)\n",
    "\n",
    "answer = torch.mm(question_2_tensor, question_3_tensor.T)\n",
    "answer"
   ]
  },
  {
   "cell_type": "code",
   "execution_count": 18,
   "metadata": {},
   "outputs": [
    {
     "data": {
      "text/plain": [
       "tensor([[1.1061],\n",
       "        [0.9868],\n",
       "        [1.8999],\n",
       "        [0.7716],\n",
       "        [1.3174],\n",
       "        [1.6353],\n",
       "        [1.7395]])"
      ]
     },
     "execution_count": 18,
     "metadata": {},
     "output_type": "execute_result"
    }
   ],
   "source": [
    "# QUESTION 5 - set the random seed of the GPU to 1234\n",
    "RANDOM_SEED_GPU = 1234\n",
    "torch.cuda.manual_seed(RANDOM_SEED_GPU)\n",
    "question_5_tensor = torch.rand(7, 7)\n",
    "\n",
    "torch.cuda.manual_seed(RANDOM_SEED_GPU)\n",
    "question_5a_tensor = torch.rand(1, 7)\n",
    "\n",
    "torch.mm(question_5_tensor, question_5a_tensor.T)"
   ]
  },
  {
   "cell_type": "code",
   "execution_count": 19,
   "metadata": {},
   "outputs": [
    {
     "data": {
      "text/plain": [
       "(tensor([[0.1272, 0.8167, 0.5440],\n",
       "         [0.6601, 0.2721, 0.9737]], device='cuda:0'),\n",
       " tensor([[0.0290, 0.4019, 0.2598],\n",
       "         [0.3666, 0.0583, 0.7006]], device='cuda:0'),\n",
       " device(type='cuda', index=0),\n",
       " device(type='cuda', index=0))"
      ]
     },
     "execution_count": 19,
     "metadata": {},
     "output_type": "execute_result"
    }
   ],
   "source": [
    "# QUESTION 6 - Create two random tensors of shape (2, 3) and send them both to the GPU (you'll need access to a GPU for this). Set torch.manual_seed(1234) when creating the tensors (this doesn't have to be the GPU random seed).\n",
    "torch.manual_seed(1234)\n",
    "question_6_tensor_A = torch.rand(2, 3, device=device)\n",
    "question_6_tensor_A = question_6_tensor_A.to(device)\n",
    "\n",
    "torch.manual_seed(1234)\n",
    "question_6_tensor_B = torch.rand(2, 3)\n",
    "question_6_tensor_B = question_6_tensor_B.to(device)\n",
    "\n",
    "question_6_tensor_A, question_6_tensor_B, question_6_tensor_A.device, question_6_tensor_B.device"
   ]
  },
  {
   "cell_type": "code",
   "execution_count": 20,
   "metadata": {},
   "outputs": [
    {
     "data": {
      "text/plain": [
       "'NVIDIA GeForce RTX 3050 Laptop GPU'"
      ]
     },
     "execution_count": 20,
     "metadata": {},
     "output_type": "execute_result"
    }
   ],
   "source": [
    "torch.cuda.get_device_name()"
   ]
  },
  {
   "cell_type": "code",
   "execution_count": null,
   "metadata": {},
   "outputs": [],
   "source": []
  }
 ],
 "metadata": {
  "kernelspec": {
   "display_name": "Python 3",
   "language": "python",
   "name": "python3"
  },
  "language_info": {
   "codemirror_mode": {
    "name": "ipython",
    "version": 3
   },
   "file_extension": ".py",
   "mimetype": "text/x-python",
   "name": "python",
   "nbconvert_exporter": "python",
   "pygments_lexer": "ipython3",
   "version": "3.12.1"
  }
 },
 "nbformat": 4,
 "nbformat_minor": 2
}
